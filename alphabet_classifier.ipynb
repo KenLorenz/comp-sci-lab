{
 "cells": [
  {
   "cell_type": "code",
   "execution_count": 1,
   "metadata": {},
   "outputs": [
    {
     "name": "stderr",
     "output_type": "stream",
     "text": [
      "2023-11-29 00:44:49.219350: I tensorflow/core/util/port.cc:110] oneDNN custom operations are on. You may see slightly different numerical results due to floating-point round-off errors from different computation orders. To turn them off, set the environment variable `TF_ENABLE_ONEDNN_OPTS=0`.\n",
      "2023-11-29 00:44:49.278260: I tensorflow/tsl/cuda/cudart_stub.cc:28] Could not find cuda drivers on your machine, GPU will not be used.\n",
      "2023-11-29 00:44:49.635047: I tensorflow/tsl/cuda/cudart_stub.cc:28] Could not find cuda drivers on your machine, GPU will not be used.\n",
      "2023-11-29 00:44:49.637692: I tensorflow/core/platform/cpu_feature_guard.cc:182] This TensorFlow binary is optimized to use available CPU instructions in performance-critical operations.\n",
      "To enable the following instructions: AVX2 AVX_VNNI FMA, in other operations, rebuild TensorFlow with the appropriate compiler flags.\n",
      "2023-11-29 00:44:50.681429: W tensorflow/compiler/tf2tensorrt/utils/py_utils.cc:38] TF-TRT Warning: Could not find TensorRT\n"
     ]
    }
   ],
   "source": [
    "import numpy as np\n",
    "import pandas as pd\n",
    "import tensorflow as tf;\n",
    "from sklearn.model_selection import train_test_split\n",
    "import matplotlib.pyplot as plt\n",
    "import csv\n",
    "# ignore I / W messages."
   ]
  },
  {
   "cell_type": "code",
   "execution_count": 2,
   "metadata": {},
   "outputs": [],
   "source": [
    "csv_file= pd.read_csv('dataset/A_Z Handwritten Data.csv').astype('float32')\n",
    "dataset = pd.DataFrame(csv_file)\n",
    "\n",
    "x = dataset.drop('0', axis = 1)\n",
    "y = dataset['0']\n",
    "\n",
    "x_train, x_test, y_train, y_test = train_test_split(x, y, test_size = 0.2)"
   ]
  },
  {
   "cell_type": "code",
   "execution_count": null,
   "metadata": {},
   "outputs": [],
   "source": [
    "print('-- phase 2: Preparing dataset --')\n",
    "\n",
    "x = dataset.drop('0', axis = 1)\n",
    "y = dataset['0']\n",
    "\n",
    "print(f'x: {x.shape}')\n",
    "print(f'y: {y.shape}')\n",
    "\n",
    "x_train, x_test, y_train, y_test = train_test_split(x, y, test_size = 0.2)\n",
    "\n",
    "y_test = np.reshape(y_test.values, (y_test.shape[0], 1))\n",
    "\n",
    "print(f'x_test: {x_test}, type: {type(x_test)}, shape: {x_test.shape}')\n",
    "print(f'y_test: {y_test}, type: {type(y_test)}, shape: {y_test.shape}')"
   ]
  },
  {
   "cell_type": "code",
   "execution_count": null,
   "metadata": {},
   "outputs": [],
   "source": [
    "print('loading the model')\n",
    "modelLoad = tf.keras.models.load_model('model/main.keras')\n",
    "\n",
    "test = np.reshape(x_test.values, (x_test.shape[0], 28,28))\n",
    "\n",
    "print(f'lock and loaded! {test.shape}')"
   ]
  },
  {
   "cell_type": "code",
   "execution_count": null,
   "metadata": {},
   "outputs": [],
   "source": [
    "alphabets = ['A', 'B', 'C', 'D', 'E', 'F', 'G', 'H', 'I', 'J', 'K', 'L', 'M', 'N', 'O', 'P', 'Q', 'R', 'S', 'T', 'U', 'V', 'W', 'X', 'Y', 'Z']\n",
    "\n",
    "m,n = x_test.shape\n",
    "\n",
    "fig, axes = plt.subplots(8,8, figsize=(8,8))\n",
    "fig.tight_layout(pad=0.1)\n",
    "\n",
    "\n",
    "# Labels are Predictions from main.keras\n",
    "for i,ax in enumerate(axes.flat):\n",
    "\n",
    "    i = np.random.randint(m)\n",
    "\n",
    "    ax.imshow(test[i], cmap='gray')\n",
    "    \n",
    "    predict = modelLoad.predict(test[i].reshape(1,784))\n",
    "    \n",
    "    ax.set_title(alphabets[np.argmax(predict)])\n",
    "    ax.set_axis_off()\n",
    "    "
   ]
  }
 ],
 "metadata": {
  "kernelspec": {
   "display_name": ".venv",
   "language": "python",
   "name": "python3"
  },
  "language_info": {
   "codemirror_mode": {
    "name": "ipython",
    "version": 3
   },
   "file_extension": ".py",
   "mimetype": "text/x-python",
   "name": "python",
   "nbconvert_exporter": "python",
   "pygments_lexer": "ipython3",
   "version": "3.8.18"
  }
 },
 "nbformat": 4,
 "nbformat_minor": 2
}
