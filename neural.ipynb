{
 "cells": [
  {
   "cell_type": "code",
   "execution_count": null,
   "metadata": {},
   "outputs": [],
   "source": [
    "# ipynb is temporary (LIGHT USAGE)\n",
    "# uses cuda, nvidia gpu support, doesn't even work.\n",
    "\n",
    "# DO NOT RUN ALL, some are not necessary. Avoid choking the ram.\n",
    "\n",
    "import numpy as np\n",
    "import pandas as pd\n",
    "import matplotlib.pyplot as plt\n",
    "\n",
    "# import cv2\n",
    "import tensorflow as tf;\n",
    "\n",
    "from sklearn.model_selection import train_test_split\n",
    "from sklearn.utils import shuffle\n",
    "\n",
    "from keras.models import Sequential\n",
    "from keras.layers import Dense, Flatten, Conv2D, MaxPool2D, Dropout\n",
    "#from keras.optimizers import SGD, Adam\n",
    "from keras.optimizers import SGD\n",
    "from keras import optimizers\n",
    "from keras.callbacks import ReduceLROnPlateau, EarlyStopping\n",
    "from keras.utils import to_categorical #.np_utils\n",
    "from keras import Input"
   ]
  },
  {
   "cell_type": "code",
   "execution_count": null,
   "metadata": {},
   "outputs": [],
   "source": [
    "# Read dataset (VERY HEAVY USAGE)\n",
    "# https://www.kaggle.com/datasets/sachinpatel21/az-handwritten-alphabets-in-csv-format\n",
    "csv_file= pd.read_csv('dataset/A_Z Handwritten Data.csv').astype('float32')\n",
    "dataset = pd.DataFrame(csv_file)\n",
    "\n",
    "#kernel KEEPS DYING. (ram dying specifically)"
   ]
  },
  {
   "cell_type": "code",
   "execution_count": null,
   "metadata": {},
   "outputs": [],
   "source": [
    "# information (MEDIUM USAGE)\n",
    "\n",
    "# dataset.shape\n",
    "# (372450, 785)\n",
    "dataset.describe()\n",
    "#dataset.head()\n"
   ]
  },
  {
   "cell_type": "code",
   "execution_count": null,
   "metadata": {},
   "outputs": [],
   "source": [
    "# Dataset preparation phase (LIGHT USAGE)\n",
    "\n",
    "# separation for x and y\n",
    "x = dataset.drop('0', axis = 1)\n",
    "y = dataset['0']\n",
    "\n",
    "print(f'x: {x.shape}')\n",
    "print(f'y: {y.shape}\\n\\n')\n",
    "\n",
    "x_train, x_test, y_train, y_test = train_test_split(x, y, test_size = 0.2)\n",
    "\n",
    "print(f'x_train length: {len(x_train)}')\n",
    "print(f'y_train length: {len(y_train)}')\n",
    "print(f'x_test length: {len(x_test)}')\n",
    "print(f'y_test length: {len(y_test)}')\n",
    "\n",
    "# -- previous results\n",
    "\n",
    "# x_train.shape\n",
    "# (297960, 784)\n",
    "\n",
    "# y_train.shape\n",
    "# (297960,)\n",
    "\n",
    "# x_test.shape\n",
    "# (74490, 784)\n",
    "\n",
    "# y_test.shape\n",
    "# (74490,)\n",
    "\n",
    "# 28x28 pixels specifically stated in the dataset\n",
    "\n",
    "x_train = np.reshape(x_train.values, (x_train.shape[0], 28, 28))\n",
    "y_train = np.reshape(y_train.values, (y_train.shape[0], 1))\n",
    "\n",
    "#x_test = np.reshape(x_test.values, (x_test.shape[0], 1, 1))\n",
    "\n",
    "print(f'\\n{x_train.shape}')\n",
    "\n",
    "# y_train.shape?\n",
    "# y_test.shape?\n",
    "\n",
    "print(f\"{y_train.shape}\")\n"
   ]
  },
  {
   "cell_type": "code",
   "execution_count": null,
   "metadata": {},
   "outputs": [],
   "source": [
    "# Visual of the dataset (LIGHT USAGE)\n",
    "\n",
    "x2 = np.reshape(x, (x.shape[0], 28, 28, 1))\n",
    "y2 = np.reshape(y, (y.shape[0], 1))\n",
    "m,n,o,l= x2.shape\n",
    "\n",
    "fig, axes = plt.subplots(8,8, figsize=(8,8))\n",
    "fig.tight_layout(pad=0.1)\n",
    "\n",
    "for i,ax in enumerate(axes.flat):\n",
    "    # INT randomizer\n",
    "    random_index = np.random.randint(m)\n",
    "    \n",
    "    # Display the image\n",
    "    ax.imshow(x2[random_index], cmap='gray')\n",
    "    \n",
    "    # Display the label above the image\n",
    "    ax.set_title(y2[random_index,0]) # index 0, represents alphabets.\n",
    "    \n",
    "    ax.set_axis_off()"
   ]
  },
  {
   "cell_type": "code",
   "execution_count": null,
   "metadata": {},
   "outputs": [],
   "source": [
    "# Layer Construction Phase (HEAVY USAGE)\n",
    "\n",
    "\n",
    "print(f'{x_train.shape}')\n",
    "\n",
    "# tf.random.set_seed(1234)\n",
    "model = Sequential(\n",
    "    [               \n",
    "        tf.keras.Input(shape=(28,28)),\n",
    "        \n",
    "        #Dense(30, activation='relu', name='L1'), # 28\n",
    "        Dense(128, activation='relu', name='L2'), # 14\n",
    "        Dense(64, activation='relu', name='L3'), # 7\n",
    "        Dense(1, activation='softmax', name='L4') # 1\n",
    "        \n",
    "    ], name = \"my_model\" \n",
    ")\n"
   ]
  },
  {
   "cell_type": "code",
   "execution_count": null,
   "metadata": {},
   "outputs": [],
   "source": [
    "# Training Phase (VERY HEAVY USAGE)\n",
    "\n",
    "model.compile(\n",
    "    loss=tf.keras.losses.BinaryCrossentropy(),\n",
    "    optimizer=tf.keras.optimizers.Adam(learning_rate=0.001), # learning_rate=1\n",
    ")\n",
    "\n",
    "model.fit(\n",
    "    x_train, y_train,\n",
    "    epochs=1 # iteration\n",
    ")"
   ]
  },
  {
   "cell_type": "code",
   "execution_count": null,
   "metadata": {},
   "outputs": [],
   "source": [
    "# Saving model phase (LIGHT USAGE)\n",
    "\n",
    "# model.save('./model/main.keras')\n",
    "\n"
   ]
  },
  {
   "cell_type": "code",
   "execution_count": null,
   "metadata": {},
   "outputs": [],
   "source": [
    "# loaded_model = keras.models.load_model('your_model.h5')"
   ]
  }
 ],
 "metadata": {
  "kernelspec": {
   "display_name": ".venv",
   "language": "python",
   "name": "python3"
  },
  "language_info": {
   "codemirror_mode": {
    "name": "ipython",
    "version": 3
   },
   "file_extension": ".py",
   "mimetype": "text/x-python",
   "name": "python",
   "nbconvert_exporter": "python",
   "pygments_lexer": "ipython3",
   "version": "3.8.18"
  }
 },
 "nbformat": 4,
 "nbformat_minor": 2
}
