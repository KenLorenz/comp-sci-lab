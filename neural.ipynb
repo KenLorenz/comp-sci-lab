{
 "cells": [
  {
   "cell_type": "code",
   "execution_count": null,
   "metadata": {},
   "outputs": [],
   "source": [
    "# ipynb is temporary\n",
    "# uses cuda, nvidia gpu support\n",
    "\n",
    "import numpy as np\n",
    "import pandas as pd\n",
    "import matplotlib.pyplot as plt\n",
    "import cv2\n",
    "import tensorflow;\n",
    "from sklearn.model_selection import train_test_split\n",
    "from sklearn.utils import shuffle\n",
    "from keras.models import Sequential\n",
    "from keras.layers import Dense, Flatten, Conv2D, MaxPool2D, Dropout\n",
    "#from keras.optimizers import SGD, Adam\n",
    "from keras.optimizers import SGD\n",
    "from keras import optimizers\n",
    "from keras.callbacks import ReduceLROnPlateau, EarlyStopping\n",
    "from keras.utils import to_categorical #.np_utils"
   ]
  },
  {
   "cell_type": "code",
   "execution_count": null,
   "metadata": {},
   "outputs": [],
   "source": [
    "# Read dataset\n",
    "# https://www.kaggle.com/datasets/sachinpatel21/az-handwritten-alphabets-in-csv-format\n",
    "csv_file= pd.read_csv('dataset/A_Z Handwritten Data.csv').astype('float32')\n",
    "dataset = pd.DataFrame(csv_file)\n"
   ]
  },
  {
   "cell_type": "code",
   "execution_count": null,
   "metadata": {},
   "outputs": [],
   "source": [
    "# information\n",
    "\n",
    "# dataset.shape\n",
    "# (372450, 785)\n",
    "\n",
    "\n",
    "dataset.describe()\n",
    "\n",
    "#dataset.head()\n"
   ]
  },
  {
   "cell_type": "code",
   "execution_count": null,
   "metadata": {},
   "outputs": [],
   "source": [
    "# Reshaping dataset\n",
    "\n",
    "\n",
    "# separation for x and y\n",
    "x = dataset.drop('0', axis = 1)\n",
    "y = dataset['0']\n",
    "\n",
    "x_train, x_test, y_train, y_test = train_test_split(x, y, test_size = 0.2)\n",
    "\n",
    "print(f'x_train length: {len(x_train)}')\n",
    "print(f'y_train length: {len(y_train)}')\n",
    "print(f'x_test length: {len(x_test)}')\n",
    "print(f'y_test length: {len(y_test)}')\n",
    "\n",
    "x_train.shape"
   ]
  }
 ],
 "metadata": {
  "kernelspec": {
   "display_name": ".venv",
   "language": "python",
   "name": "python3"
  },
  "language_info": {
   "codemirror_mode": {
    "name": "ipython",
    "version": 3
   },
   "file_extension": ".py",
   "mimetype": "text/x-python",
   "name": "python",
   "nbconvert_exporter": "python",
   "pygments_lexer": "ipython3",
   "version": "3.8.18"
  }
 },
 "nbformat": 4,
 "nbformat_minor": 2
}
