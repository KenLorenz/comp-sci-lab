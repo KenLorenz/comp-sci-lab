{
 "cells": [
  {
   "cell_type": "code",
   "execution_count": 1,
   "metadata": {},
   "outputs": [
    {
     "name": "stderr",
     "output_type": "stream",
     "text": [
      "2023-12-13 00:09:51.997040: I tensorflow/core/util/port.cc:110] oneDNN custom operations are on. You may see slightly different numerical results due to floating-point round-off errors from different computation orders. To turn them off, set the environment variable `TF_ENABLE_ONEDNN_OPTS=0`.\n",
      "2023-12-13 00:09:52.000213: I tensorflow/tsl/cuda/cudart_stub.cc:28] Could not find cuda drivers on your machine, GPU will not be used.\n",
      "2023-12-13 00:09:52.049193: I tensorflow/tsl/cuda/cudart_stub.cc:28] Could not find cuda drivers on your machine, GPU will not be used.\n",
      "2023-12-13 00:09:52.052724: I tensorflow/core/platform/cpu_feature_guard.cc:182] This TensorFlow binary is optimized to use available CPU instructions in performance-critical operations.\n",
      "To enable the following instructions: AVX2 AVX_VNNI FMA, in other operations, rebuild TensorFlow with the appropriate compiler flags.\n",
      "2023-12-13 00:09:53.266954: W tensorflow/compiler/tf2tensorrt/utils/py_utils.cc:38] TF-TRT Warning: Could not find TensorRT\n"
     ]
    }
   ],
   "source": [
    "from sklearn.model_selection import cross_val_score\n",
    "from sklearn import tree\n",
    "import numpy as np\n",
    "import matplotlib.pyplot as plt\n",
    "from dataset import *\n",
    "import tensorflow as tf\n",
    "import string\n",
    "from document_utils import *\n",
    "from keras.models import Sequential\n",
    "from keras.layers import Dense\n",
    "# from keras.callbacks import EarlyStopping\n",
    "from sklearn.model_selection import cross_validate\n",
    "from sklearn import datasets, linear_model\n",
    "from keras.layers import Dense, Flatten, Conv2D, MaxPool2D, Dropout"
   ]
  },
  {
   "cell_type": "code",
   "execution_count": 4,
   "metadata": {},
   "outputs": [
    {
     "name": "stdout",
     "output_type": "stream",
     "text": [
      "\n",
      "x_train shape: (20000, 784)\n",
      "\n",
      "y_train shape: (20000, 1)\n",
      "\n",
      "x_test shape: (2000, 784)\n",
      "\n",
      "y_test shape: (2000, 1)\n"
     ]
    },
    {
     "name": "stderr",
     "output_type": "stream",
     "text": [
      "2023-12-13 00:11:08.497844: E tensorflow/compiler/xla/stream_executor/cuda/cuda_driver.cc:268] failed call to cuInit: CUDA_ERROR_NO_DEVICE: no CUDA-capable device is detected\n"
     ]
    }
   ],
   "source": [
    "x_train = load_x_train()\n",
    "x_test = load_x_test()\n",
    "y_train = load_y_train()\n",
    "y_test = load_y_test()\n",
    "\n",
    "verify_all_datasets()\n",
    "\n",
    "modelLoad = tf.keras.models.load_model('model/main.keras')"
   ]
  },
  {
   "cell_type": "code",
   "execution_count": 7,
   "metadata": {},
   "outputs": [
    {
     "name": "stdout",
     "output_type": "stream",
     "text": [
      "[0.56 0.53 0.56 0.57 0.58 0.62 0.61 0.55]\n",
      "0.571\n",
      "[0.73 0.75 0.73 0.74 0.76 0.75 0.74 0.73]\n",
      "0.74205\n"
     ]
    }
   ],
   "source": [
    "# mean absolute error for test and training sets\n",
    "\n",
    "decisionTree = tree.DecisionTreeClassifier()\n",
    "scores_test = cross_val_score(decisionTree, x_test, y_test, cv=8)\n",
    "print(scores_test)\n",
    "print(scores_test.mean())\n",
    "\n",
    "\n",
    "scores_train = cross_val_score(decisionTree, x_train, y_train, cv=8)\n",
    "print(scores_train)\n",
    "\n",
    "print(scores_train.mean())\n",
    "\n",
    "err_cv = abs(scores_test.mean())"
   ]
  }
 ],
 "metadata": {
  "kernelspec": {
   "display_name": ".venv",
   "language": "python",
   "name": "python3"
  },
  "language_info": {
   "codemirror_mode": {
    "name": "ipython",
    "version": 3
   },
   "file_extension": ".py",
   "mimetype": "text/x-python",
   "name": "python",
   "nbconvert_exporter": "python",
   "pygments_lexer": "ipython3",
   "version": "3.8.18"
  }
 },
 "nbformat": 4,
 "nbformat_minor": 2
}
