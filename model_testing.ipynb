{
 "cells": [
  {
   "cell_type": "code",
   "execution_count": null,
   "metadata": {},
   "outputs": [],
   "source": [
    "import numpy as np\n",
    "\n",
    "import tensorflow as tf;\n",
    "\n",
    "import matplotlib.pyplot as plt\n",
    "\n",
    "from dataset import load_x_test, load_y_test\n",
    "# ignore I / W messages."
   ]
  },
  {
   "cell_type": "code",
   "execution_count": null,
   "metadata": {},
   "outputs": [],
   "source": [
    "x_test = load_x_test()\n",
    "y_test = load_y_test()"
   ]
  },
  {
   "cell_type": "code",
   "execution_count": null,
   "metadata": {},
   "outputs": [],
   "source": [
    "targetModel = 'main'\n",
    "modelLoad = tf.keras.models.load_model(f'model/{targetModel}.keras')\n",
    "\n",
    "test = np.reshape(x_test.values, (x_test.shape[0], 28,28))\n"
   ]
  },
  {
   "cell_type": "code",
   "execution_count": null,
   "metadata": {},
   "outputs": [],
   "source": [
    "alphabets = ['A', 'B', 'C', 'D', 'E', 'F', 'G', 'H', 'I', 'J', 'K', 'L', 'M', 'N', 'O', 'P', 'Q', 'R', 'S', 'T', 'U', 'V', 'W', 'X', 'Y', 'Z']\n",
    "\n",
    "m,n = x_test.shape\n",
    "\n",
    "fig, axes = plt.subplots(8,8, figsize=(8,8))\n",
    "fig.tight_layout(pad=0.1)\n",
    "\n",
    "\n",
    "# Labels are Predictions from the model.\n",
    "for i,ax in enumerate(axes.flat):\n",
    "\n",
    "    i = np.random.randint(m)\n",
    "\n",
    "    ax.imshow(test[i], cmap='gray')\n",
    "    \n",
    "    predict = modelLoad.predict(test[i].reshape(1,784))\n",
    "    \n",
    "    ax.set_title(alphabets[np.argmax(predict)])\n",
    "    ax.set_axis_off()\n",
    "    "
   ]
  }
 ],
 "metadata": {
  "kernelspec": {
   "display_name": ".venv",
   "language": "python",
   "name": "python3"
  },
  "language_info": {
   "codemirror_mode": {
    "name": "ipython",
    "version": 3
   },
   "file_extension": ".py",
   "mimetype": "text/x-python",
   "name": "python",
   "nbconvert_exporter": "python",
   "pygments_lexer": "ipython3",
   "version": "3.8.18"
  }
 },
 "nbformat": 4,
 "nbformat_minor": 2
}
